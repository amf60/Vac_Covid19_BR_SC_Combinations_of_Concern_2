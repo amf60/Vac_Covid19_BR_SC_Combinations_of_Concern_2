{
  "nbformat": 4,
  "nbformat_minor": 0,
  "metadata": {
    "colab": {
      "name": "M2_P_sc3005_UDVE_01.ipynb",
      "provenance": [],
      "mount_file_id": "1ozX6cbIrU-3QtIYYxEOGKe6vzBow2Jd_",
      "authorship_tag": "ABX9TyOS6gbOtq0sPzzRAgAts9Jc",
      "include_colab_link": true
    },
    "kernelspec": {
      "name": "python3",
      "display_name": "Python 3"
    },
    "language_info": {
      "name": "python"
    }
  },
  "cells": [
    {
      "cell_type": "markdown",
      "metadata": {
        "id": "view-in-github",
        "colab_type": "text"
      },
      "source": [
        "<a href=\"https://colab.research.google.com/github/amf60/which_covid19_vaccine_did_you_receive_in_SC_BR/blob/main/M2_P_sc3005_UDVE_01.ipynb\" target=\"_parent\"><img src=\"https://colab.research.google.com/assets/colab-badge.svg\" alt=\"Open In Colab\"/></a>"
      ]
    },
    {
      "cell_type": "markdown",
      "metadata": {
        "id": "GCWziyxoNC7w"
      },
      "source": [
        "# SC UDVE nr 01 - 'SAO MIGUEL D'OESTE (SMO)' - extracted from master dataset sc300521_05am"
      ]
    },
    {
      "cell_type": "markdown",
      "metadata": {
        "id": "FtCZBQ_GYd6I"
      },
      "source": [
        "This notebook is part of the Aldir MEDEIROS FILHO's project for the ALURA Bootcamp Module 2. \n",
        "\n",
        "This specific notebook covers SC UDVE unit - SAO MIGUEL DO OESTE (SMO) that, for the tabulation, was labelled by the author of this project as UDVE unit nr 01 (out of the 17 UDVE units in SC according to DIVE SC)"
      ]
    },
    {
      "cell_type": "code",
      "metadata": {
        "id": "PWeS1kB1kUrt"
      },
      "source": [
        "import matplotlib.pyplot as plt\n",
        "import matplotlib.ticker as ticker\n",
        "import numpy as np\n",
        "import pandas as pd\n"
      ],
      "execution_count": null,
      "outputs": []
    },
    {
      "cell_type": "markdown",
      "metadata": {
        "id": "wzP42FJEN1Yg"
      },
      "source": [
        "## *Step I - Adding labels to the original 34 columns*."
      ]
    },
    {
      "cell_type": "code",
      "metadata": {
        "id": "DccNs_awIWmH"
      },
      "source": [
        "sc3005_udve_01 = pd.read_csv('/content/drive/MyDrive/Alura DS Bootcamp/Modulo 2/Alura DS - M2 - Project - sc300521_10am/sc3005_05amB_01a.csv', names=['c1_document_id','c2_p_id','c3_p_idade','c4_p_dn','c5_p_sex','c6_p_r_codigo','c7_p_r_valor','c8_p_ibgemunicipio','c9_p_pais','c10_p_nmmunicipio','c11_p_endereco_nmpais','c12_p_uf','c13_p_cep','c14_p_enumnacionalidade','c15_e_valor','c16_e_razaosocial','c17_e_nofantasia','c18_e_municipio_codigo','c19_e_municipio_nome', 'c20_e_uf', 'c21_v_grupoatendimento_codigo','c22_v_grupoatendimento_nome','c23_v_categoria_codigo','c24_v_categoria_nome','c25_v_lote', 'c26_v_fabricante_nome','c27_v_fabricante_referencia','c28_v_dataaplicacao','c29_v_descricao_dose','c30_v_codigo','c31_v_nome','c32_sistema_origem','c33_data_importacao_rnds','c34_id_sistema_origem', 'c35_SC_UDVE_Nr'] )"
      ],
      "execution_count": null,
      "outputs": []
    },
    {
      "cell_type": "markdown",
      "metadata": {
        "id": "kwbKtaiEOgln"
      },
      "source": [
        "# I am adding a column to identify the SC UDVE unit nr for this dataset, so we can re-use the data from this notebook to compare data from different SC UDVE units."
      ]
    },
    {
      "cell_type": "code",
      "metadata": {
        "id": "10uwbtqfKILs"
      },
      "source": [
        "sc3005_udve_01['C35_SC_UDVE_Unit'] = sc3005_udve_01.apply(lambda x: 1, axis=1)"
      ],
      "execution_count": null,
      "outputs": []
    },
    {
      "cell_type": "code",
      "metadata": {
        "id": "92Y4acE1VAfn"
      },
      "source": [
        "sc3005_udve_01 = sc3005_udve_01.drop('c35_SC_UDVE_Nr', axis= 1)"
      ],
      "execution_count": null,
      "outputs": []
    },
    {
      "cell_type": "code",
      "metadata": {
        "id": "AzvV0EtEHmDr"
      },
      "source": [
        "sc3005_udve_01"
      ],
      "execution_count": null,
      "outputs": []
    },
    {
      "cell_type": "code",
      "metadata": {
        "id": "FTfjsfSiaSPO"
      },
      "source": [
        "sc3005_udve_01.info()"
      ],
      "execution_count": null,
      "outputs": []
    },
    {
      "cell_type": "markdown",
      "metadata": {
        "id": "JSkr78gu9yKf"
      },
      "source": [
        "# Step II - Names of the 22 counties belonging to the UDVE 01 - 'SAO MIGUEL D'OESTE' and uniques of the five columns being assessed \n",
        "* ## c26_v_fabricante_nome\n",
        "* ## c30_v_codigo\n",
        "* ## c31_v_nome\n",
        "* ## c32_sistema_origem\n",
        "* ## c29_v_descricao_dose\n",
        "\n"
      ]
    },
    {
      "cell_type": "code",
      "metadata": {
        "id": "aNqPUF7EbDCh",
        "colab": {
          "base_uri": "https://localhost:8080/"
        },
        "outputId": "4a8f77dc-90ad-44f3-91ff-621e96f9b2c5"
      },
      "source": [
        "sc3005_udve_01.c19_e_municipio_nome.unique()"
      ],
      "execution_count": null,
      "outputs": [
        {
          "output_type": "execute_result",
          "data": {
            "text/plain": [
              "array(['ANCHIETA', 'BANDEIRANTE', 'BARRA BONITA', 'BELMONTE', 'DESCANSO',\n",
              "       'DIONISIO CERQUEIRA', 'FLOR DO SERTAO', 'GUARACIABA',\n",
              "       'GUARUJA DO SUL', 'IPORA DO OESTE', 'ITAPIRANGA', 'MONDAI',\n",
              "       'PALMA SOLA', 'PARAISO', 'PRINCESA', 'RIQUEZA', 'ROMELANDIA',\n",
              "       'SANTA HELENA', 'SAO JOAO DO OESTE', 'SAO JOSE DO CEDRO',\n",
              "       'SAO MIGUEL DO OESTE', 'TUNAPOLIS'], dtype=object)"
            ]
          },
          "metadata": {
            "tags": []
          },
          "execution_count": 10
        }
      ]
    },
    {
      "cell_type": "code",
      "metadata": {
        "id": "68GLZuZGYSYg",
        "colab": {
          "base_uri": "https://localhost:8080/"
        },
        "outputId": "d546633e-ecad-4712-bbde-7bd7d438a4ae"
      },
      "source": [
        "sc3005_udve_01.c26_v_fabricante_nome.unique()"
      ],
      "execution_count": null,
      "outputs": [
        {
          "output_type": "execute_result",
          "data": {
            "text/plain": [
              "array(['FUNDACAO BUTANTAN', 'FUNDACAO OSWALDO CRUZ',\n",
              "       'MINISTERIO DA SAUDE', 'SINOVAC LIFE SCIENCE CO LTD',\n",
              "       'SERUM INSTITUTE OF INDIA LTD'], dtype=object)"
            ]
          },
          "metadata": {
            "tags": []
          },
          "execution_count": 11
        }
      ]
    },
    {
      "cell_type": "code",
      "metadata": {
        "id": "O_2Pv6eXaZv-",
        "colab": {
          "base_uri": "https://localhost:8080/"
        },
        "outputId": "c6cdb72e-2f78-4fca-fa31-71185eea1070"
      },
      "source": [
        "sc3005_udve_01.c30_v_codigo.unique()"
      ],
      "execution_count": null,
      "outputs": [
        {
          "output_type": "execute_result",
          "data": {
            "text/plain": [
              "array([86, 85, 89])"
            ]
          },
          "metadata": {
            "tags": []
          },
          "execution_count": 12
        }
      ]
    },
    {
      "cell_type": "code",
      "metadata": {
        "id": "Rbpm0WzOaiId",
        "colab": {
          "base_uri": "https://localhost:8080/"
        },
        "outputId": "0f613a35-6b17-4878-eb99-a54d7128d84a"
      },
      "source": [
        "sc3005_udve_01.c31_v_nome.unique()"
      ],
      "execution_count": null,
      "outputs": [
        {
          "output_type": "execute_result",
          "data": {
            "text/plain": [
              "array(['Covid-19-Coronavac-Sinovac/Butantan',\n",
              "       'Vacina Covid-19 - Covishield', 'Covid-19-AstraZeneca'],\n",
              "      dtype=object)"
            ]
          },
          "metadata": {
            "tags": []
          },
          "execution_count": 13
        }
      ]
    },
    {
      "cell_type": "code",
      "metadata": {
        "id": "Kzrr0DjiWQQj",
        "colab": {
          "base_uri": "https://localhost:8080/"
        },
        "outputId": "ee94d609-66d0-4a48-c165-ba01199dc0fe"
      },
      "source": [
        "sc3005_udve_01.c32_sistema_origem.unique()"
      ],
      "execution_count": null,
      "outputs": [
        {
          "output_type": "execute_result",
          "data": {
            "text/plain": [
              "array(['Novo PNI', 'ESUS APS - NACIONAL (OFFLINE)'], dtype=object)"
            ]
          },
          "metadata": {
            "tags": []
          },
          "execution_count": 14
        }
      ]
    },
    {
      "cell_type": "code",
      "metadata": {
        "id": "05bQOOESCibv",
        "colab": {
          "base_uri": "https://localhost:8080/"
        },
        "outputId": "1269134a-0de7-4217-ba58-2d27dcd2344c"
      },
      "source": [
        "sc3005_udve_01.c29_v_descricao_dose.unique()"
      ],
      "execution_count": null,
      "outputs": [
        {
          "output_type": "execute_result",
          "data": {
            "text/plain": [
              "array(['\\xa0\\xa0\\xa0\\xa01ª\\xa0Dose', '\\xa0\\xa0\\xa0\\xa02ª\\xa0Dose'],\n",
              "      dtype=object)"
            ]
          },
          "metadata": {
            "tags": []
          },
          "execution_count": 15
        }
      ]
    },
    {
      "cell_type": "markdown",
      "metadata": {
        "id": "TWUx7y6yDPtA"
      },
      "source": [
        "# STEP III - Counting the different combinations between the 5 columns\n",
        "* ## c26_v_fabricante_nome.unique\n",
        "* ## c30_v_codigo.unique\n",
        "* ## c31_v_nome.unique\n",
        "* ## c32_sistema_origem.unique\n",
        "* ## c29_v_descricao_dose\n",
        "\n",
        "The process used in this step III was done based on the learning gathered from this source: https://stackoverflow.com/questions/35268817/unique-combinations-of-values-in-selected-columns-in-pandas-data-frame-and-count"
      ]
    },
    {
      "cell_type": "code",
      "metadata": {
        "id": "lq3fYHdEasLz"
      },
      "source": [
        "v_fabri_codigo_nome_dose_sysorig_sc3005_udve_01 = sc3005_udve_01[['c26_v_fabricante_nome','c30_v_codigo','c31_v_nome', 'c29_v_descricao_dose','c32_sistema_origem',]].info()"
      ],
      "execution_count": null,
      "outputs": []
    },
    {
      "cell_type": "code",
      "metadata": {
        "id": "xJMvvMaUcB5h"
      },
      "source": [
        "v_fabri_codigo_nome_dose_sysorig_sc3005_udve_01 = sc3005_udve_01[['c26_v_fabricante_nome','c30_v_codigo','c31_v_nome', 'c29_v_descricao_dose','c32_sistema_origem', 'C35_SC_UDVE_Unit']]\n",
        "v_fabri_codigo_nome_dose_sysorig_sc3005_udve_01"
      ],
      "execution_count": null,
      "outputs": []
    },
    {
      "cell_type": "code",
      "metadata": {
        "id": "goJVXOksbMqp"
      },
      "source": [
        "v_fabri_codigo_nome_dose_sysorig_sc3005_udve_01.groupby(['c26_v_fabricante_nome','c30_v_codigo','c31_v_nome', 'c29_v_descricao_dose','c32_sistema_origem', 'C35_SC_UDVE_Unit']).size()"
      ],
      "execution_count": null,
      "outputs": []
    },
    {
      "cell_type": "code",
      "metadata": {
        "id": "MHJE26NEcthK"
      },
      "source": [
        "v_fabri_codigo_nome_dose_sysorig_sc3005_udve_01.groupby(['c26_v_fabricante_nome','c30_v_codigo','c31_v_nome', 'c29_v_descricao_dose','c32_sistema_origem', 'C35_SC_UDVE_Unit']).size().reset_index()"
      ],
      "execution_count": null,
      "outputs": []
    },
    {
      "cell_type": "code",
      "metadata": {
        "id": "Vsfn6rQeiUSK",
        "colab": {
          "base_uri": "https://localhost:8080/",
          "height": 495
        },
        "outputId": "28839c60-b3da-430e-ce8f-75324c57c0cd"
      },
      "source": [
        "v_fabri_codigo_nome_dose_sysorig_sc3005_udve_01.groupby(['c26_v_fabricante_nome','c30_v_codigo','c31_v_nome', 'c29_v_descricao_dose','c32_sistema_origem', 'C35_SC_UDVE_Unit']).size().reset_index().rename(columns={0:'count'})"
      ],
      "execution_count": null,
      "outputs": [
        {
          "output_type": "execute_result",
          "data": {
            "text/html": [
              "<div>\n",
              "<style scoped>\n",
              "    .dataframe tbody tr th:only-of-type {\n",
              "        vertical-align: middle;\n",
              "    }\n",
              "\n",
              "    .dataframe tbody tr th {\n",
              "        vertical-align: top;\n",
              "    }\n",
              "\n",
              "    .dataframe thead th {\n",
              "        text-align: right;\n",
              "    }\n",
              "</style>\n",
              "<table border=\"1\" class=\"dataframe\">\n",
              "  <thead>\n",
              "    <tr style=\"text-align: right;\">\n",
              "      <th></th>\n",
              "      <th>c26_v_fabricante_nome</th>\n",
              "      <th>c30_v_codigo</th>\n",
              "      <th>c31_v_nome</th>\n",
              "      <th>c29_v_descricao_dose</th>\n",
              "      <th>c32_sistema_origem</th>\n",
              "      <th>C35_SC_UDVE_Unit</th>\n",
              "      <th>count</th>\n",
              "    </tr>\n",
              "  </thead>\n",
              "  <tbody>\n",
              "    <tr>\n",
              "      <th>0</th>\n",
              "      <td>FUNDACAO BUTANTAN</td>\n",
              "      <td>86</td>\n",
              "      <td>Covid-19-Coronavac-Sinovac/Butantan</td>\n",
              "      <td>1ª Dose</td>\n",
              "      <td>Novo PNI</td>\n",
              "      <td>1</td>\n",
              "      <td>22012</td>\n",
              "    </tr>\n",
              "    <tr>\n",
              "      <th>1</th>\n",
              "      <td>FUNDACAO BUTANTAN</td>\n",
              "      <td>86</td>\n",
              "      <td>Covid-19-Coronavac-Sinovac/Butantan</td>\n",
              "      <td>2ª Dose</td>\n",
              "      <td>Novo PNI</td>\n",
              "      <td>1</td>\n",
              "      <td>20276</td>\n",
              "    </tr>\n",
              "    <tr>\n",
              "      <th>2</th>\n",
              "      <td>FUNDACAO OSWALDO CRUZ</td>\n",
              "      <td>85</td>\n",
              "      <td>Vacina Covid-19 - Covishield</td>\n",
              "      <td>1ª Dose</td>\n",
              "      <td>Novo PNI</td>\n",
              "      <td>1</td>\n",
              "      <td>22788</td>\n",
              "    </tr>\n",
              "    <tr>\n",
              "      <th>3</th>\n",
              "      <td>FUNDACAO OSWALDO CRUZ</td>\n",
              "      <td>85</td>\n",
              "      <td>Vacina Covid-19 - Covishield</td>\n",
              "      <td>2ª Dose</td>\n",
              "      <td>Novo PNI</td>\n",
              "      <td>1</td>\n",
              "      <td>1603</td>\n",
              "    </tr>\n",
              "    <tr>\n",
              "      <th>4</th>\n",
              "      <td>MINISTERIO DA SAUDE</td>\n",
              "      <td>89</td>\n",
              "      <td>Covid-19-AstraZeneca</td>\n",
              "      <td>1ª Dose</td>\n",
              "      <td>Novo PNI</td>\n",
              "      <td>1</td>\n",
              "      <td>1285</td>\n",
              "    </tr>\n",
              "    <tr>\n",
              "      <th>5</th>\n",
              "      <td>MINISTERIO DA SAUDE</td>\n",
              "      <td>89</td>\n",
              "      <td>Covid-19-AstraZeneca</td>\n",
              "      <td>2ª Dose</td>\n",
              "      <td>Novo PNI</td>\n",
              "      <td>1</td>\n",
              "      <td>771</td>\n",
              "    </tr>\n",
              "    <tr>\n",
              "      <th>6</th>\n",
              "      <td>SERUM INSTITUTE OF INDIA LTD</td>\n",
              "      <td>86</td>\n",
              "      <td>Covid-19-Coronavac-Sinovac/Butantan</td>\n",
              "      <td>1ª Dose</td>\n",
              "      <td>ESUS APS - NACIONAL (OFFLINE)</td>\n",
              "      <td>1</td>\n",
              "      <td>810</td>\n",
              "    </tr>\n",
              "    <tr>\n",
              "      <th>7</th>\n",
              "      <td>SERUM INSTITUTE OF INDIA LTD</td>\n",
              "      <td>86</td>\n",
              "      <td>Covid-19-Coronavac-Sinovac/Butantan</td>\n",
              "      <td>2ª Dose</td>\n",
              "      <td>ESUS APS - NACIONAL (OFFLINE)</td>\n",
              "      <td>1</td>\n",
              "      <td>735</td>\n",
              "    </tr>\n",
              "    <tr>\n",
              "      <th>8</th>\n",
              "      <td>SINOVAC LIFE SCIENCE CO LTD</td>\n",
              "      <td>85</td>\n",
              "      <td>Vacina Covid-19 - Covishield</td>\n",
              "      <td>1ª Dose</td>\n",
              "      <td>ESUS APS - NACIONAL (OFFLINE)</td>\n",
              "      <td>1</td>\n",
              "      <td>754</td>\n",
              "    </tr>\n",
              "    <tr>\n",
              "      <th>9</th>\n",
              "      <td>SINOVAC LIFE SCIENCE CO LTD</td>\n",
              "      <td>85</td>\n",
              "      <td>Vacina Covid-19 - Covishield</td>\n",
              "      <td>2ª Dose</td>\n",
              "      <td>ESUS APS - NACIONAL (OFFLINE)</td>\n",
              "      <td>1</td>\n",
              "      <td>41</td>\n",
              "    </tr>\n",
              "  </tbody>\n",
              "</table>\n",
              "</div>"
            ],
            "text/plain": [
              "          c26_v_fabricante_nome  c30_v_codigo  ... C35_SC_UDVE_Unit  count\n",
              "0             FUNDACAO BUTANTAN            86  ...                1  22012\n",
              "1             FUNDACAO BUTANTAN            86  ...                1  20276\n",
              "2         FUNDACAO OSWALDO CRUZ            85  ...                1  22788\n",
              "3         FUNDACAO OSWALDO CRUZ            85  ...                1   1603\n",
              "4           MINISTERIO DA SAUDE            89  ...                1   1285\n",
              "5           MINISTERIO DA SAUDE            89  ...                1    771\n",
              "6  SERUM INSTITUTE OF INDIA LTD            86  ...                1    810\n",
              "7  SERUM INSTITUTE OF INDIA LTD            86  ...                1    735\n",
              "8   SINOVAC LIFE SCIENCE CO LTD            85  ...                1    754\n",
              "9   SINOVAC LIFE SCIENCE CO LTD            85  ...                1     41\n",
              "\n",
              "[10 rows x 7 columns]"
            ]
          },
          "metadata": {
            "tags": []
          },
          "execution_count": 24
        }
      ]
    }
  ]
}